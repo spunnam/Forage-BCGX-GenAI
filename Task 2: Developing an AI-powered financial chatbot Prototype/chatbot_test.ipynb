{
  "nbformat": 4,
  "nbformat_minor": 0,
  "metadata": {
    "colab": {
      "provenance": []
    },
    "kernelspec": {
      "name": "python3",
      "display_name": "Python 3"
    },
    "language_info": {
      "name": "python"
    }
  },
  "cells": [
    {
      "cell_type": "code",
      "execution_count": 1,
      "metadata": {
        "colab": {
          "base_uri": "https://localhost:8080/"
        },
        "id": "o-tCxP56meEO",
        "outputId": "3c188e00-1f77-4266-a49d-3c00a6e7f2ab"
      },
      "outputs": [
        {
          "output_type": "stream",
          "name": "stdout",
          "text": [
            "Requirement already satisfied: flask in /usr/local/lib/python3.11/dist-packages (3.1.0)\n",
            "Requirement already satisfied: Werkzeug>=3.1 in /usr/local/lib/python3.11/dist-packages (from flask) (3.1.3)\n",
            "Requirement already satisfied: Jinja2>=3.1.2 in /usr/local/lib/python3.11/dist-packages (from flask) (3.1.6)\n",
            "Requirement already satisfied: itsdangerous>=2.2 in /usr/local/lib/python3.11/dist-packages (from flask) (2.2.0)\n",
            "Requirement already satisfied: click>=8.1.3 in /usr/local/lib/python3.11/dist-packages (from flask) (8.1.8)\n",
            "Requirement already satisfied: blinker>=1.9 in /usr/local/lib/python3.11/dist-packages (from flask) (1.9.0)\n",
            "Requirement already satisfied: MarkupSafe>=2.0 in /usr/local/lib/python3.11/dist-packages (from Jinja2>=3.1.2->flask) (3.0.2)\n"
          ]
        }
      ],
      "source": [
        "!pip install flask"
      ]
    },
    {
      "cell_type": "code",
      "source": [
        "import pandas as pd\n",
        "\n",
        "final_report = pd.read_csv(\"final-data-report-task1.csv\")\n",
        "summary_report = pd.read_csv(\"growth_report.csv\")\n",
        "\n",
        "print(final_report.head())\n",
        "print(summary_report.head())\n"
      ],
      "metadata": {
        "colab": {
          "base_uri": "https://localhost:8080/"
        },
        "id": "IOsDautTnBnW",
        "outputId": "78b14967-ef0a-4d26-ec14-149e56621452"
      },
      "execution_count": 2,
      "outputs": [
        {
          "output_type": "stream",
          "name": "stdout",
          "text": [
            "   Unnamed: 0    company  fiscal_year  total_revenue  net_income  \\\n",
            "0           8      Apple         2022         394328       99803   \n",
            "1           7      Apple         2023         383285       96995   \n",
            "2           6      Apple         2024         391035       93736   \n",
            "3           2  Microsoft         2022         184903       72738   \n",
            "4           1  Microsoft         2023         198270       72361   \n",
            "\n",
            "   total_assets  total_liabilities  cash_flow_operating_activities  \\\n",
            "0        352755             302083                          122151   \n",
            "1        352583             290437                          110543   \n",
            "2        364980             308030                          118254   \n",
            "3        364840             173422                           89035   \n",
            "4        384620             183512                           87582   \n",
            "\n",
            "   Revenue Growth (%)  Net Income Growth (%)  Total Assets Growth (%)  \\\n",
            "0            0.000000               0.000000                 0.000000   \n",
            "1           -2.800461              -2.813543                -0.048759   \n",
            "2            2.021994              -3.359967                 3.516052   \n",
            "3            0.000000               0.000000                 0.000000   \n",
            "4            7.229196              -0.518299                 5.421555   \n",
            "\n",
            "   Total Liabilities Growth (%)  Cash Flow Growth (%)  \n",
            "0                      0.000000              0.000000  \n",
            "1                     -3.855232             -9.502992  \n",
            "2                      6.057424              6.975566  \n",
            "3                      0.000000              0.000000  \n",
            "4                      5.818178             -1.631942  \n",
            "   Unnamed: 0    company  Revenue Growth (%)  Net Income Growth (%)  \\\n",
            "0           0      Apple           -0.259489              -2.057837   \n",
            "1           1  Microsoft            4.703574               7.094040   \n",
            "2           2      Tesla            6.580948             -11.088841   \n",
            "\n",
            "   Total Assets Growth (%)  Total Liabilities Growth (%)  Cash Flow Growth (%)  \n",
            "0                 1.155764                      0.734064             -0.842475  \n",
            "1                 4.140484                      4.619145             11.241546  \n",
            "2                14.660357                     -0.224178              0.868440  \n"
          ]
        }
      ]
    },
    {
      "cell_type": "code",
      "source": [
        "from chatbot import financial_chatbot, get_available_questions\n",
        "\n",
        "def run_colab_chatbot():\n",
        "    \"\"\"Run chatbot interactively inside Google Colab\"\"\"\n",
        "    print(\"\\n------------------------------------------------\")\n",
        "    while True:\n",
        "        user_input = input(\"\\nEnter 'Hi' to start the chatbot session; type 'exit' to quit: \").strip().lower()\n",
        "\n",
        "        if user_input == \"exit\":\n",
        "            break\n",
        "        elif user_input == \"hi\":\n",
        "            print(\"\\nWelcome to AI-Driven Financial Chatbot!\")\n",
        "            print(\"Available companies:\", ', '.join(final_report['company'].unique()))\n",
        "\n",
        "            company = input(\"Enter company name: \").strip().capitalize()\n",
        "            try:\n",
        "                year = int(input(\"Enter the fiscal year (e.g., 2022, 2023, 2024): \").strip())\n",
        "            except ValueError:\n",
        "                print(\"Invalid input. Please enter a numeric fiscal year.\")\n",
        "                continue\n",
        "\n",
        "            print(\"\\nIf you need a list of queries, type: 'show queries'\")\n",
        "            query = input(\"\\nEnter your query: \").strip()\n",
        "\n",
        "            if query.lower() == \"show queries\":\n",
        "                print(get_available_questions())\n",
        "                continue\n",
        "\n",
        "            response = financial_chatbot(query, company, year)\n",
        "            print(response)\n",
        "        else:\n",
        "            print(\"Invalid input. Restart and enter 'Hi' to start.\")\n",
        "\n",
        "run_colab_chatbot()\n"
      ],
      "metadata": {
        "colab": {
          "base_uri": "https://localhost:8080/"
        },
        "id": "IyhHlZoanDX9",
        "outputId": "bbf4cc5a-9758-4694-e15e-714e00d160aa"
      },
      "execution_count": 3,
      "outputs": [
        {
          "name": "stdout",
          "output_type": "stream",
          "text": [
            "\n",
            "------------------------------------------------\n",
            "\n",
            "Enter 'Hi' to start the chatbot session; type 'exit' to quit: Hi\n",
            "\n",
            "Welcome to AI-Driven Financial Chatbot!\n",
            "Available companies: Apple, Microsoft, Tesla\n",
            "Enter company name: Tesla\n",
            "Enter the fiscal year (e.g., 2022, 2023, 2024): 2023\n",
            "\n",
            "If you need a list of queries, type: 'show queries'\n",
            "\n",
            "Enter your query: What is the Net Income?\n",
            "The Net Income for Tesla in 2023 is $ 14,974.00\n",
            "\n",
            "Enter 'Hi' to start the chatbot session; type 'exit' to quit: Hi\n",
            "\n",
            "Welcome to AI-Driven Financial Chatbot!\n",
            "Available companies: Apple, Microsoft, Tesla\n",
            "Enter company name: Apple\n",
            "Enter the fiscal year (e.g., 2022, 2023, 2024): 2021\n",
            "\n",
            "If you need a list of queries, type: 'show queries'\n",
            "\n",
            "Enter your query: What is the Net Income?\n",
            "Invalid fiscal year. Available years: 2022, 2023, 2024.\n",
            "\n",
            "Enter 'Hi' to start the chatbot session; type 'exit' to quit: abc\n",
            "Invalid input. Restart and enter 'Hi' to start.\n",
            "\n",
            "Enter 'Hi' to start the chatbot session; type 'exit' to quit: Hi\n",
            "\n",
            "Welcome to AI-Driven Financial Chatbot!\n",
            "Available companies: Apple, Microsoft, Tesla\n",
            "Enter company name: Microsoft\n",
            "Enter the fiscal year (e.g., 2022, 2023, 2024): What is the year by year average revenue growth rate(%)?\n",
            "Invalid input. Please enter a numeric fiscal year.\n",
            "\n",
            "Enter 'Hi' to start the chatbot session; type 'exit' to quit: Hi\n",
            "\n",
            "Welcome to AI-Driven Financial Chatbot!\n",
            "Available companies: Apple, Microsoft, Tesla\n",
            "Enter company name: Microsoft\n",
            "Enter the fiscal year (e.g., 2022, 2023, 2024): 2023\n",
            "\n",
            "If you need a list of queries, type: 'show queries'\n",
            "\n",
            "Enter your query: What is the year by year average revenue growth rate(%)?\n",
            "The Yearly Average Revenue Growth Rate for Microsoft (2022-2024) is 4.70%\n",
            "\n",
            "Enter 'Hi' to start the chatbot session; type 'exit' to quit: exit\n"
          ]
        }
      ]
    }
  ]
}